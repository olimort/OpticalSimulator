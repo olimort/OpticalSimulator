{
 "cells": [
  {
   "cell_type": "code",
   "execution_count": 1,
   "id": "ecd6c911",
   "metadata": {},
   "outputs": [],
   "source": [
    "from IPython.display import display, Math\n",
    "from IPython.display import display as disp\n",
    "\n",
    "import numpy as np\n",
    "import matplotlib.pyplot as plt"
   ]
  },
  {
   "cell_type": "markdown",
   "id": "d73510c9",
   "metadata": {},
   "source": [
    "# Transimissão óptica ASK(PAM) ideal"
   ]
  },
  {
   "cell_type": "markdown",
   "id": "3c1c6b22",
   "metadata": {},
   "source": [
    "<img src=\"../figures/sinalgenerico.png\" width=\"500\">\n",
    "\n",
    "A ideia é excitar o modulador óptico (MZM) com sinais elétricos gerados a partir de uma sequência binária:\n",
    "\n",
    "$$ Bits (bits) \\rightarrow Símbolos (symbTx) \\rightarrow Pulsos (pulseTx) \\rightarrow Sinal Elétrico (sigTxe) \\rightarrow Sinal Óptico (sigTxo) $$"
   ]
  },
  {
   "cell_type": "code",
   "execution_count": 11,
   "id": "17ac3812",
   "metadata": {},
   "outputs": [],
   "source": [
    "from commpy.utilities  import signal_power, upsample\n",
    "from utils.dsp import pulseShape, firFilter\n",
    "from utils.models import mzm"
   ]
  },
  {
   "cell_type": "code",
   "execution_count": 27,
   "id": "1b004470",
   "metadata": {},
   "outputs": [],
   "source": [
    "# Parâmetros da simulação:\n",
    "SpS = 32            # Amostras por Símbolo\n",
    "Rs  = 10e9          # Taxa de símbolos                  [bauds]\n",
    "Ts  = 1/Rs          # Período de símbolo em segundos    [segundos]\n",
    "Fa  = 1/(Ts/SpS)    # Frequência de amostragem do sinal (amostras/segundo)\n",
    "Ta  = 1/Fa          # Período de amostragem\n",
    "\n",
    "# Par#ametros do Modulador Óptico p/ transmitir em potência:\n",
    "P0 = 100e-3         # potência da portadora CW na entrada no MZM\n",
    "Vπ = 2\n",
    "Vb = -Vπ/2\n",
    "Ai = np.sqrt(P0)\n"
   ]
  },
  {
   "cell_type": "code",
   "execution_count": 1,
   "id": "26a9a363",
   "metadata": {},
   "outputs": [
    {
     "ename": "NameError",
     "evalue": "name 'np' is not defined",
     "output_type": "error",
     "traceback": [
      "\u001b[0;31m---------------------------------------------------------------------------\u001b[0m",
      "\u001b[0;31mNameError\u001b[0m                                 Traceback (most recent call last)",
      "Input \u001b[0;32mIn [1]\u001b[0m, in \u001b[0;36m<cell line: 2>\u001b[0;34m()\u001b[0m\n\u001b[1;32m      1\u001b[0m \u001b[38;5;66;03m# Gera sequência binária:\u001b[39;00m\n\u001b[0;32m----> 2\u001b[0m bits \u001b[38;5;241m=\u001b[39m \u001b[43mnp\u001b[49m\u001b[38;5;241m.\u001b[39mrandom\u001b[38;5;241m.\u001b[39mrandint(\u001b[38;5;241m2\u001b[39m, size\u001b[38;5;241m=\u001b[39m\u001b[38;5;241m20\u001b[39m)    \n\u001b[1;32m      4\u001b[0m \u001b[38;5;66;03m# Mapeia bits em Símbolos:\u001b[39;00m\n\u001b[1;32m      5\u001b[0m ASK    \u001b[38;5;241m=\u001b[39m np\u001b[38;5;241m.\u001b[39marray([\u001b[38;5;241m-\u001b[39m\u001b[38;5;241m1\u001b[39m,\u001b[38;5;241m1\u001b[39m])                  \u001b[38;5;66;03m# Regra de modulação (Utiliza-se somente amplitude)\u001b[39;00m\n",
      "\u001b[0;31mNameError\u001b[0m: name 'np' is not defined"
     ]
    }
   ],
   "source": [
    "# Gera sequência binária:\n",
    "bits = np.random.randint(2, size=20)    \n",
    "\n",
    "# Mapeia bits em Símbolos:\n",
    "ASK    = np.array([-1,1])                  # Regra de modulação (Utiliza-se somente amplitude)\n",
    "symbTx = ASK[bits]                         # f{[0],[1]} -> {[-1],[1]}\n",
    "\n",
    "# Formatando pulso retangular ideal:\n",
    "symbTx_ups = upsample(symbTx, SpS).real    # Adiciona SpS ao trem de pulsos\n",
    "pulse  = pulseShape('rect', SpS)           # Gera pulso retangular (ideal)\n",
    "pulse  = pulse/max(abs(pulse))\n",
    "sigTxe = firFilter(pulse, symbTx_ups).real # Convolução símbolos*pulso\n",
    "\n",
    "# Passando o sinal Elétrico pelo MZM:\n",
    "sigTxo = mzm(Ai, Vπ, sigTxe, Vb)           # Sinal óptico \n",
    "t = (0.5 + np.arange(0, symbTx_ups.size))*(Ts/1e-12)\n",
    "\n",
    "\n",
    "# Plotando Resultados:\n",
    "symbTx_ups[symbTx_ups==0] = np.nan\n",
    "plt.figure()\n",
    "plt.plot(t, sigTxe, '-', linewidth=3)\n",
    "plt.plot(t, symbTx_ups, 'o')\n",
    "plt.xlabel('tempo [ps]')\n",
    "plt.ylabel('amplitude [V]')\n",
    "plt.title('$\\sum_{n}\\;s_{n}\\;p(t-n T_s)$')\n",
    "plt.grid()\n",
    "\n",
    "plt.figure()\n",
    "plt.plot(t, sigTxo, '-', linewidth=3)\n",
    "plt.xlabel('tempo [ps]')\n",
    "plt.ylabel('Potência [W]')\n",
    "plt.title('$\\sqrt{P_0}\\sum_{n}\\;b_{n}\\;p(t-n T_s)$')\n",
    "plt.grid()\n"
   ]
  },
  {
   "cell_type": "code",
   "execution_count": null,
   "id": "21d90af5",
   "metadata": {},
   "outputs": [],
   "source": []
  },
  {
   "cell_type": "code",
   "execution_count": null,
   "id": "07587822",
   "metadata": {},
   "outputs": [],
   "source": []
  }
 ],
 "metadata": {
  "kernelspec": {
   "display_name": "Python 3 (ipykernel)",
   "language": "python",
   "name": "python3"
  },
  "language_info": {
   "codemirror_mode": {
    "name": "ipython",
    "version": 3
   },
   "file_extension": ".py",
   "mimetype": "text/x-python",
   "name": "python",
   "nbconvert_exporter": "python",
   "pygments_lexer": "ipython3",
   "version": "3.10.4"
  }
 },
 "nbformat": 4,
 "nbformat_minor": 5
}
