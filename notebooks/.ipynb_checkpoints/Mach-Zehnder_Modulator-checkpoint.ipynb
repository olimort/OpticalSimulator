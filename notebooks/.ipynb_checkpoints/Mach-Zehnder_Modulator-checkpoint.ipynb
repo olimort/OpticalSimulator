{
 "cells": [
  {
   "cell_type": "markdown",
   "id": "9f71d917-05fe-41bb-a3fa-80dfbaedea03",
   "metadata": {},
   "source": [
    "# Modulador de Mach-Zehnder\n",
    "\n",
    "O modulador de Mach-Zehnder na operação Push-Pull modula a amplitude com alterção na fase do sinal óptico. O campo elétrico de saída e a potência em função de $V_\\pi$ e do sinal de entrada ão dados por:\n",
    "\n",
    "$$ E_{out}(t) = E_{in}(T)\\cos\\left( \\frac{u(t)}{2V_\\pi}\\pi \\right) $$\n",
    "$$ \\frac{P_{out}(t)}{P_{in}(t)} = \\frac{1}{2} + \\frac{1}{2}\\cos\\left( \\frac{u(t)}{V_\\pi}\\pi \\right) $$"
   ]
  },
  {
   "cell_type": "code",
   "execution_count": 1,
   "id": "814a4347",
   "metadata": {},
   "outputs": [],
   "source": [
    "import numpy as np\n",
    "import matplotlib.pyplot as plt"
   ]
  },
  {
   "cell_type": "code",
   "execution_count": 9,
   "id": "b921a02b",
   "metadata": {},
   "outputs": [],
   "source": [
    "def mzm(vmin, vmax, vpi, u):\n",
    "    E = np.cos((np.pi/(2*vpi)*(u)))\n",
    "    P = E**2\n",
    "    return [E, P]"
   ]
  },
  {
   "cell_type": "code",
   "execution_count": 11,
   "id": "4b8b8df6",
   "metadata": {},
   "outputs": [
    {
     "ename": "NameError",
     "evalue": "name 'E_mzm' is not defined",
     "output_type": "error",
     "traceback": [
      "\u001b[0;31m---------------------------------------------------------------------------\u001b[0m",
      "\u001b[0;31mNameError\u001b[0m                                 Traceback (most recent call last)",
      "Input \u001b[0;32mIn [11]\u001b[0m, in \u001b[0;36m<cell line: 8>\u001b[0;34m()\u001b[0m\n\u001b[1;32m      5\u001b[0m [Emzm, Pmzm] \u001b[38;5;241m=\u001b[39m mzm(Vmin, Vmax, Vpi, V)\n\u001b[1;32m      7\u001b[0m fig1 \u001b[38;5;241m=\u001b[39m plt\u001b[38;5;241m.\u001b[39mfigure(figsize\u001b[38;5;241m=\u001b[39m(\u001b[38;5;241m16\u001b[39m,\u001b[38;5;241m9\u001b[39m))\n\u001b[0;32m----> 8\u001b[0m plt\u001b[38;5;241m.\u001b[39mplot(V, \u001b[43mE_mzm\u001b[49m, linewidith\u001b[38;5;241m=\u001b[39m\u001b[38;5;241m2\u001b[39m, label\u001b[38;5;241m=\u001b[39m\u001b[38;5;124m\"\u001b[39m\u001b[38;5;124mField\u001b[39m\u001b[38;5;124m\"\u001b[39m)\n\u001b[1;32m      9\u001b[0m plt\u001b[38;5;241m.\u001b[39mplot(V, P_mzm, linewidith\u001b[38;5;241m=\u001b[39m\u001b[38;5;241m2\u001b[39m, label\u001b[38;5;241m=\u001b[39m\u001b[38;5;124m\"\u001b[39m\u001b[38;5;124mPower\u001b[39m\u001b[38;5;124m\"\u001b[39m)\n\u001b[1;32m     10\u001b[0m plt\u001b[38;5;241m.\u001b[39mxlabel(\u001b[38;5;124m\"\u001b[39m\u001b[38;5;124mV/V_\u001b[39m\u001b[38;5;124m\\\u001b[39m\u001b[38;5;124mpi\u001b[39m\u001b[38;5;124m\"\u001b[39m)\n",
      "\u001b[0;31mNameError\u001b[0m: name 'E_mzm' is not defined"
     ]
    },
    {
     "data": {
      "text/plain": [
       "<Figure size 1152x648 with 0 Axes>"
      ]
     },
     "metadata": {},
     "output_type": "display_data"
    }
   ],
   "source": [
    "[Vmin, Vmax, Vpi] = [-2, 2, 1] # Parâmetros do MZM\n",
    "\n",
    "V = np.linspace(Vmin,Vmax,100)\n",
    "\n",
    "[E_mzm, P_mzm] = mzm(Vmin, Vmax, Vpi, V)\n",
    "\n",
    "fig1 = plt.figure(figsize=(16,9))\n",
    "plt.plot(V, E_mzm, linewidith=2, label=\"Field\")\n",
    "plt.plot(V, P_mzm, linewidith=2, label=\"Power\")\n",
    "plt.xlabel(\"V/V_\\pi\")\n",
    "plt.ylabel(\"Transmissão\")\n",
    "plt.xlim([Vmin,Vmax])\n",
    "plt.grid(True)"
   ]
  },
  {
   "cell_type": "code",
   "execution_count": null,
   "id": "171fffab",
   "metadata": {},
   "outputs": [],
   "source": []
  }
 ],
 "metadata": {
  "kernelspec": {
   "display_name": "Python 3 (ipykernel)",
   "language": "python",
   "name": "python3"
  },
  "language_info": {
   "codemirror_mode": {
    "name": "ipython",
    "version": 3
   },
   "file_extension": ".py",
   "mimetype": "text/x-python",
   "name": "python",
   "nbconvert_exporter": "python",
   "pygments_lexer": "ipython3",
   "version": "3.10.4"
  }
 },
 "nbformat": 4,
 "nbformat_minor": 5
}
