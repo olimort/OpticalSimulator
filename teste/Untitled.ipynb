{
 "cells": [
  {
   "cell_type": "code",
   "execution_count": 1,
   "id": "ecd6c911",
   "metadata": {},
   "outputs": [],
   "source": [
    "from IPython.display import display, Math\n",
    "from IPython.display import display as disp\n",
    "\n",
    "import numpy as np\n",
    "import matplotlib.pyplot as plt"
   ]
  },
  {
   "cell_type": "markdown",
   "id": "d73510c9",
   "metadata": {},
   "source": [
    "# Modulação ASK(PAM)"
   ]
  },
  {
   "cell_type": "markdown",
   "id": "3c1c6b22",
   "metadata": {},
   "source": [
    "<img src=\"../figures/sinalgenerico.png\" width=\"500\">\n",
    "\n",
    "A ideia é excitar o modulador óptico (MZM) com sinais elétricos gerados a partir de uma sequência binária:\n",
    "\n",
    "$$ Bits (bits) \\rightarrow Símbolos (symbTx) \\rightarrow Pulsos (pulseTx) \\rightarrow Sinal Elétrico (sigTxe) \\rightarrow Sinal Óptico (sigTxo) $$"
   ]
  },
  {
   "cell_type": "code",
   "execution_count": 2,
   "id": "17ac3812",
   "metadata": {},
   "outputs": [],
   "source": [
    "from commpy.utilities  import signal_power, upsample\n",
    "from utils.dsp import pulseShape"
   ]
  },
  {
   "cell_type": "code",
   "execution_count": 2,
   "id": "1b004470",
   "metadata": {},
   "outputs": [],
   "source": [
    "# parâmetros da simulação\n",
    "SpS = 32            # Amostras por Símbolo\n",
    "Rs  = 10e9          # Taxa de símbolos                  [bauds]\n",
    "Ts  = 1/Rs          # Período de símbolo em segundos    [segundos]\n",
    "Fa  = 1/(Ts/SpS)    # Frequência de amostragem do sinal (amostras/segundo)\n",
    "Ta  = 1/Fa          # Período de amostragem"
   ]
  },
  {
   "cell_type": "code",
   "execution_count": 12,
   "id": "26a9a363",
   "metadata": {},
   "outputs": [
    {
     "data": {
      "text/plain": [
       "array([-1, -1,  1, -1, -1, -1, -1,  1,  1, -1,  1,  1,  1,  1,  1,  1,  1,\n",
       "        1, -1,  1])"
      ]
     },
     "execution_count": 12,
     "metadata": {},
     "output_type": "execute_result"
    }
   ],
   "source": [
    "# Gera sequência binária:\n",
    "bits = np.random.randint(2, size=20)    \n",
    "n    = np.arange(0, bits.size)\n",
    "\n",
    "# Mapeia bits em Símbolos:\n",
    "ASK = np.array([-1,1])   # Regra de modulação (Utiliza-se somente amplitude)\n",
    "symbTx = ASK[bits]       # f{[0],[1]} -> {[-1],[1]}\n",
    "\n",
    "# Formatando pulso retangular ideal:\n"
   ]
  },
  {
   "cell_type": "code",
   "execution_count": null,
   "id": "07587822",
   "metadata": {},
   "outputs": [],
   "source": []
  }
 ],
 "metadata": {
  "kernelspec": {
   "display_name": "Python 3 (ipykernel)",
   "language": "python",
   "name": "python3"
  },
  "language_info": {
   "codemirror_mode": {
    "name": "ipython",
    "version": 3
   },
   "file_extension": ".py",
   "mimetype": "text/x-python",
   "name": "python",
   "nbconvert_exporter": "python",
   "pygments_lexer": "ipython3",
   "version": "3.10.4"
  }
 },
 "nbformat": 4,
 "nbformat_minor": 5
}
